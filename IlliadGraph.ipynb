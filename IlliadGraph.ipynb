{
 "cells": [
  {
   "cell_type": "markdown",
   "metadata": {},
   "source": [
    "# Connected Components\n",
    "\n",
    "The purpose of this assignment is to familiarize yourself with the handling of graph data structures. You will implement depth-first search for identifying the connected components of an undirected graph, implementing procedure Search as a subroutine along the way.\n",
    "\n",
    "You will use the [NetworkX](https://networkx.github.io/) Python package to represent and manipulate graphs. You should first familiarize yourself with its functionality by going through the brief [tutorial](https://networkx.org/documentation/stable/tutorial.html). For this homework, you may only use the basic undirected graph methods listed [here](https://networkx.org/documentation/stable/reference/classes/graph.html).\n",
    "\n",
    "As a use case, we will work with a dataset recording the interactions between characters in Homer's *Iliad*."
   ]
  },
  {
   "cell_type": "code",
   "execution_count": 39,
   "metadata": {},
   "outputs": [],
   "source": [
    "import networkx\n",
    "homer = open('homer.dat')"
   ]
  },
  {
   "cell_type": "markdown",
   "metadata": {},
   "source": [
    "The format of the data is straightforward. After some comment lines (beginning with \\*), the file lists a codename for each character (i.e., node of the graph), followed by a description. The file then lists the groups of characters that interact in each chapter, from which you will form the edges. For instance, the first line has the form:\n",
    "\n",
    "```1:CH,AG,ME,GS;AP,CH;HE,AC;AC,AG,CA;HE,AT;AT,AC;AT,OG;NE,AG,AC;CS,OD```\n",
    "\n",
    "This means that CH,AG,ME,GS interacted, so there are edges for all pairs of these nodes. Groups of characters that interacted are separated by semicolons. The lines start with chapter information of the form `1:` or `&:`, which can be ignored for this problem."
   ]
  },
  {
   "cell_type": "markdown",
   "metadata": {},
   "source": [
    "First implement a function to read in the nodes from the input file. You may implement any auxiliary functions as needed, and are encouraged to use small functions with specific purposes to keep your code readable. Any function you implement should be clearly commented."
   ]
  },
  {
   "cell_type": "markdown",
   "metadata": {},
   "source": [
    "Next implement a function to read in the edges from the input file."
   ]
  },
  {
   "cell_type": "code",
   "execution_count": 40,
   "metadata": {},
   "outputs": [],
   "source": [
    "def read_nodes(gfile):\n",
    "    \"\"\"Reads in the nodes of the graph from the input file.\n",
    "    \n",
    "    Args:\n",
    "        gfile: A handle for the file containing the graph data, starting at the top.\n",
    "        \n",
    "    Returns:\n",
    "        A list of the nodes in the graph of the form:\n",
    "            ['CH', 'AG, 'ME', ...]\n",
    "    \"\"\"\n",
    "    #To set the marker back at the starting position\n",
    "    homer.seek(0)\n",
    "    # List to store nodes\n",
    "    nodes = []\n",
    "    for line in gfile:\n",
    "        line = line.strip()\n",
    "        #to ignore the comments\n",
    "        if line.startswith('*'):\n",
    "            continue\n",
    "        # Splitting Sections based on empty spaces\n",
    "        sections = line.split(' ')\n",
    "        for section in sections:\n",
    "            # for removing 1:, &: etc\n",
    "            section_parts = section.split(':')\n",
    "            # The if loop will take the [1] element hence eliminating &: , 1:, etc.\n",
    "            if len(section_parts)>1:\n",
    "                section = section_parts[1]\n",
    "                elements = section.split(';')\n",
    "                #To find nodes\n",
    "                for element in elements:\n",
    "                    chars = element.split(',')\n",
    "                    nodes.extend(chars)\n",
    "    nodes = [node for node in nodes if node]# to remove empty spaces\n",
    "    #To remove duplicates, I convert it ot set, since python has unique sets and then return it again as a list\n",
    "    nodes = list(set(nodes)) \n",
    "    \n",
    "    return nodes\n",
    "    "
   ]
  },
  {
   "cell_type": "code",
   "execution_count": 41,
   "metadata": {},
   "outputs": [],
   "source": [
    "def read_edges(gfile):\n",
    "    \"\"\"Reads in the edges of the graph from the input file.\n",
    "    \n",
    "    Args:\n",
    "        gfile: A handle for the file containing the graph data, starting at the top \n",
    "            of the edges section.\n",
    "            \n",
    "    Returns:\n",
    "        The edges in the graph as a list of pairs of the form:\n",
    "            [('CH', 'AG'), ('AG', 'ME'), ...]\n",
    "    \"\"\"\n",
    "    #To set the marker back at the starting position\n",
    "    homer.seek(0)\n",
    "    #intializing edges list\n",
    "    edges = []\n",
    "    for linez in gfile:\n",
    "        linez=linez.strip()\n",
    "        #To ignore the commments\n",
    "        if linez.startswith('*'):\n",
    "            continue\n",
    "        # Splitting Sections based on empty spaces\n",
    "        sectionz = linez.split(' ')\n",
    "        \n",
    "        for sectioni in sectionz:\n",
    "            # for removing 1:, &: etc\n",
    "            section_partz = sectioni.split(':')\n",
    "            # The if loop will take the [1] element hence eliminating &: , 1:, etc.\n",
    "            if len(section_partz) > 1:\n",
    "                sectioni = section_partz[1]\n",
    "                \n",
    "                #spliting the lines based on ;\n",
    "                nodez = sectioni.split(';')\n",
    "                for nodei in nodez:\n",
    "                # Split each node into individual to create a list of edges\n",
    "                    elementz = nodei.split(',')\n",
    "                    # Running the loop to get the edges\n",
    "                    for i in range(len(elementz)):\n",
    "                        for j in range( i+1, len(elementz)): #To avoid backedges\n",
    "                            \n",
    "                            edge = (elementz[i], elementz[j])\n",
    "                            edges.append(edge)\n",
    "    #The dataset has repeat edges i.e. some edges for example AC and GC are there twice but we don't need to worry about it since the undirected graph function takes care\n",
    "    #To remove Repeats: I convert it ot set, since python has unique sets and then return it again as a list                     \n",
    "    edges=list(set(edges))\n",
    "    return edges\n"
   ]
  },
  {
   "cell_type": "markdown",
   "metadata": {},
   "source": [
    "The following code should now correctly create the graph."
   ]
  },
  {
   "cell_type": "code",
   "execution_count": 49,
   "metadata": {},
   "outputs": [
    {
     "name": "stdout",
     "output_type": "stream",
     "text": [
      "561\n"
     ]
    }
   ],
   "source": [
    "import networkx as nx\n",
    "G = nx.Graph()\n",
    "G.add_nodes_from(read_nodes(homer))\n",
    "G.add_edges_from(read_edges(homer))\n",
    "print(len(G.nodes))"
   ]
  },
  {
   "cell_type": "markdown",
   "metadata": {},
   "source": [
    "Next implement procedure Search. The function takes in a graph and a root node, and returns a list of the nodes visited during the search. The nodes should appear in the order in which they were *first visited*. The neighbors of a node should be processed in *alphabetical order*, where numbers come before letters. This will ensure that the output of your function is uniquely defined, given any input node."
   ]
  },
  {
   "cell_type": "code",
   "execution_count": 43,
   "metadata": {},
   "outputs": [],
   "source": [
    "def Search(graph, root):\n",
    "    \"\"\"Runs Search from vertex root in a graph. Neighboring nodes are processed in alphabetical order.\n",
    "    \n",
    "    Args:\n",
    "        graph: the given graph, with nodes encoded as strings.\n",
    "        root: the node from which to start the search.\n",
    "        \n",
    "    Returns:\n",
    "        A list of nodes in the order in which they were first visited.\n",
    "    \"\"\"\n",
    "    visited = []  # List to store visited nodes\n",
    "    stack = [root]  # Stack to keep track of nodes to visit next\n",
    "    while stack:\n",
    "        # Get the last node from the stack\n",
    "        node = stack.pop()  \n",
    "        if node not in visited:\n",
    "            # Mark the node as visited\n",
    "            visited.append(node)  \n",
    "            # Get neighbors in Reverse alphabetical order so that when we send it into stack it will use LIFO thus selecting the smallest node in the alphabetical order defined above\n",
    "            neighbors = sorted(graph.neighbors(node), reverse = True)  \n",
    "            # Add the reverse sorted neighbors to the stack\n",
    "            stack.extend(neighbors) \n",
    "             \n",
    "    return visited\n",
    "    "
   ]
  },
  {
   "cell_type": "markdown",
   "metadata": {},
   "source": [
    "We will check the correctness of your code by verifying that it correctly computes the connected component of node Ulysses (node `OD`)."
   ]
  },
  {
   "cell_type": "code",
   "execution_count": 50,
   "metadata": {},
   "outputs": [
    {
     "name": "stdout",
     "output_type": "stream",
     "text": [
      "['OD', '0X', '1M', '1N', '1O', '1P', '1Q', '1R', '1S', '23', '2X', 'DI', '03', '04', '05', 'AG', '0D', '0E', '1H', '26', '32', '33', '34', '35', 'AC', '0M', '0L', '2I', 'AH', '2J', 'HT', '02', '01', 'AE', '0F', '07', '08', '0G', '0H', '0I', '0J', '0K', '3V', 'AJ', '0W', '1J', '1U', '3N', '3O', '3P', '3Q', '3R', '47', '4P', '4V', '4Y', '5T', '6M', '6N', '8W', '8T', '8U', '8V', '8X', 'NE', '5A', '57', 'PO', '1K', '0P', '0N', '0O', '0Q', '0R', '0S', 'AA', 'AF', 'AI', '3T', '4C', 'AO', '31', 'PD', '2W', '4H', '4I', '4J', '4K', '4L', 'PS', '36', '4G', '0C', '1I', 'AL', '06', '3W', '3X', '3Y', '3Z', '40', '93', '44', '45', '46', '92', '94', '22', '41', '42', '43', '95', '6Y', '96', '98', '9A', '9B', '9C', 'AX', '4N', '6R', 'MT', '6I', '6J', '6O', '6Q', 'TU', '24', '2N', '2O', '2P', '2Q', '2R', '2S', '2T', '2U', '2V', '48', '49', 'PR', '0T', '0U', '4A', '4B', 'ID', '11', '59', '7S', '7R', '7T', '9W', '9V', '9X', 'AR', '2C', '2B', '2A', 'BL', '29', '83', 'ZE', '1F', '1G', 'OG', '87', 'DT', 'SE', 'TH', '5D', 'PE', '5L', '5N', '5O', '5E', '5F', '5K', '5G', '5H', '5I', '5J', 'HM', 'AT', '13', 'MR', '4M', '4R', '8K', '9K', '09', '0A', '9M', '9L', '9N', '9O', 'BR', 'AM', '12', 'ME', '4F', '4U', '6B', '8G', '8H', 'A0', 'MG', '15', '14', '2H', 'HC', 'IA', 'TA', 'EB', '7M', 'PA', '0B', '6S', '7D', '86', '8I', '6D', '6E', 'H2', 'LY', 'I2', 'S2', 'W1', 'PN', 'AP', '2Z', '53', '7F', '7G', 'CH', 'CS', 'GS', 'CA', 'EO', '79', 'OC', 'HE', '62', '7U', '5Q', 'HR', '1L', '6W', '9J', 'AU', 'FY', 'HD', '3A', '39', '3B', '7I', '7J', '7H', '82', '51', '52', '8R', '6F', '8N', '8O', '8P', '8Q', 'ER', 'MO', 'PP', '7L', '7C', '7B', '7A', '7K', 'PX', 'DM', 'XB', '8J', 'AD', 'O1', 'PH', 'ZF', 'BO', 'EU', 'IR', 'HL', 'AN', 'CL', 'NO', 'TS', 'EN', 'SA', '1T', '2E', '2D', 'GL', '5C', '7Z', 'K1', 'L1', 'M1', '6P', 'DE', 'SL', 'GR', 'NI', 'TL', '9I', 'SF', 'S1', 'CR', 'RH', 'TT', 'HA', 'HB', 'HP', '0Z', '0Y', '10', '90', 'CI', 'RO', 'XA', 'LE', 'SI', 'MC', 'TI', 'RU', 'TR', 'HN', 'DP', 'PL', '7V', 'T2', 'U2', 'V2', 'W2', 'X2', 'A1', 'B1', 'C0', 'C1', 'CN', '97', 'D1', 'E1', 'EP', '16', '28', '3S', 'AZ', 'F1', 'G1', 'H1', 'I1', 'J1', 'L0', 'M0', 'N0', 'O0', 'P0', 'Q0', 'R0', 'S0', 'T0', 'U0', 'V0', 'W0', 'X0', 'Y0', 'LA', '4Z', '6G', '6H', 'E0', 'TM', 'G0', 'D0', 'P1', 'LT', '27', '9Y', '9Z', 'PB', '4O', 'J0', 'PT', 'Z0', '9R', 'ST', '8L', 'EA', '1X', '1Y', '1Z', '20', '21', 'AB', '56', 'EM', 'EE', 'PC', 'AS', 'TY', 'SP', 'NR', 'Q1', 'R1', '64', '65', '66', '67', '68', '69', '6A', 'FD', '2F', '2G', '84', '85', 'WI', 'CM', 'H0', '7Y', '7X', '7W', '88', 'EF', 'OT', 'N1', 'K0', '4S', '4T', '4W', 'TE', 'I0', '0V', '9S', '25', '4Q', '58', 'B0', 'F0', '5U', '6L', '6K', '81', '4X', '5R', '60', 'DN', '5M', '5X', '5Y', '61', '63', '6T', '6U', '6V', '6X', '8M', '9U', '9T', 'J2', 'K2', 'RA', '5B', '5V', '5Z', '2K', '2L', '30', '3U', '5P', '5S', '5W', '6Z', '70', '71', '72', '73', '74', '75', '76', '77', '80', '89', '8A', '8B', '8C', '8D', '8E', '8F', '7E', '9D', '9E', 'A2', 'Z1', 'B2', 'C2', 'D2', 'E2', 'F2', 'G2', 'L2', 'M2', 'N2', 'O2', 'P2', 'Q2', 'R2', 'T1', 'U1', 'V1', 'X1', 'Y1', '37', '38', '6C', '78', '17', '18', '19', '1A', '1B', '1C', '1D', '1E', '1V', '1W', '2M', '2Y', '3C', '3D', '3G', '3E', '3F', '3H', '3I', '3J', '3K', '3L', '3M']\n"
     ]
    }
   ],
   "source": [
    "ulysses = Search(G, 'OD')\n",
    "print(ulysses)"
   ]
  },
  {
   "cell_type": "markdown",
   "metadata": {},
   "source": [
    "Next implement DFS to find the connected components of the character graph. When choosing roots for your components, always pick the *smallest unvisited node* according to alphabetical ordering. Combined with your Search routine, this will ensure that the output is again uniquely defined."
   ]
  },
  {
   "cell_type": "code",
   "execution_count": 45,
   "metadata": {},
   "outputs": [],
   "source": [
    "def connected_components(graph):\n",
    "    \"\"\"Computes the connected components of the given graph.\n",
    "    \n",
    "    Args: \n",
    "        graph: the given graph, with nodes encoded as strings.\n",
    "        \n",
    "    Returns:\n",
    "        The connected components of the graph. Components are listed in\n",
    "        alphabetical order of their root nodes.\n",
    "    \"\"\"\n",
    "    #a list to store the connected components\n",
    "    components = []\n",
    "\n",
    "    #a set to keep track of visited nodes\n",
    "    visited = set()\n",
    "\n",
    "    #all nodes in the graph\n",
    "    #sorting them to pick the smallest unvisited node first\n",
    "    all_nodes = sorted(graph.nodes())\n",
    "\n",
    "    for node in all_nodes:\n",
    "        if node not in visited:\n",
    "            #performing DFS using the search function\n",
    "            #search function gets all the connected nodes\n",
    "            component = Search(graph, node)\n",
    "            \n",
    "            #adding the connected components to components list\n",
    "            components.append(component)\n",
    "            # Marking node as visited\n",
    "            visited.update(component)\n",
    "    \n",
    "    return components\n"
   ]
  },
  {
   "cell_type": "markdown",
   "metadata": {},
   "source": [
    "We will check correctness of your code by verifying that your output is identical to our solution."
   ]
  },
  {
   "cell_type": "code",
   "execution_count": 46,
   "metadata": {},
   "outputs": [],
   "source": [
    "character_interactions = connected_components(G)\n"
   ]
  },
  {
   "cell_type": "markdown",
   "metadata": {},
   "source": [
    "As a preliminary check, you should find that the following statements are all true."
   ]
  },
  {
   "cell_type": "code",
   "execution_count": 47,
   "metadata": {},
   "outputs": [
    {
     "name": "stdout",
     "output_type": "stream",
     "text": [
      "There are 12 connected components in the Iliad:True\n",
      "The giant component has size 542:True\n",
      "There are 5 isolated characters:True\n"
     ]
    }
   ],
   "source": [
    "component_sizes = [len(c) for c in character_interactions]\n",
    "print(\"There are 12 connected components in the Iliad:{}\".format(len(component_sizes) == 12))\n",
    "print(\"The giant component has size 542:{}\".format(max(component_sizes) == 542))\n",
    "print(\"There are 5 isolated characters:{}\".format(len([c for c in component_sizes if c == 1]) == 5))"
   ]
  },
  {
   "cell_type": "code",
   "execution_count": null,
   "metadata": {},
   "outputs": [],
   "source": []
  }
 ],
 "metadata": {
  "kernelspec": {
   "display_name": "Python 3 (ipykernel)",
   "language": "python",
   "name": "python3"
  },
  "language_info": {
   "codemirror_mode": {
    "name": "ipython",
    "version": 3
   },
   "file_extension": ".py",
   "mimetype": "text/x-python",
   "name": "python",
   "nbconvert_exporter": "python",
   "pygments_lexer": "ipython3",
   "version": "3.11.5"
  }
 },
 "nbformat": 4,
 "nbformat_minor": 1
}
